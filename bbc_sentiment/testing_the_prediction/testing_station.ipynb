{
 "cells": [
  {
   "cell_type": "code",
   "execution_count": 113,
   "metadata": {},
   "outputs": [
    {
     "data": {
      "text/plain": [
       "[{'label': 'POSITIVE', 'score': 0.7481210231781006}]"
      ]
     },
     "execution_count": 113,
     "metadata": {},
     "output_type": "execute_result"
    }
   ],
   "source": [
    "# Load  the classifier\n",
    "from transformers import pipeline\n",
    "\n",
    "# Allocate a pipeline for sentiment-analysis\n",
    "# classifier = pipeline('sentiment-analysis')\n",
    "classifier('')"
   ]
  },
  {
   "cell_type": "code",
   "execution_count": 115,
   "metadata": {},
   "outputs": [
    {
     "name": "stdout",
     "output_type": "stream",
     "text": [
      "Novak Djokovic: Australia loses bid to delay tennis star's visa appeal \n",
      "\n",
      "A bid by the Australian government to delay Novak Djokovic's appeal against deportation has been rejected by a judge overseeing his case. \n",
      "\n",
      "The government had requested the tennis star's court hearing be postponed until Wednesday, but it will instead begin as scheduled on Monday morning. \n",
      "\n",
      "Djokovic was denied entry to Australia after landing in Melbourne last week to defend his Australian Open title. \n",
      "\n",
      "His case has caused a huge outcry and made headlines around the world. \n",
      "\n",
      "The world number one men's tennis player - who has said he is opposed to vaccination - is in an immigration detention centre as his lawyers prepare to appeal against a decision by Australia's federal government to cancel his visa. \n",
      "\n",
      "Djokovic, 34, had been granted a medical exemption to play in the Australian Open tournament in a decision that infuriated many ordinary Australians who have been living under some of the world's strictest Covid rules. \n",
      "\n",
      "On Saturday, Djokovic's lawyers submitted a 35-page document arguing that their client fulfilled the criteria for a vaccine exemption certificate because of a recent Covid infection, which was confirmed by a PCR test on 16 December. \n",
      "\n",
      "But the Australian government has insisted that a recent infection only offers an exemption for residents. \n",
      "\n",
      "It appears that Djokovic's lawyers will effectively tell the court that the decision to revoke the visa was affected by a variety of \"jurisdictional errors\". \n",
      "\n",
      "There had been no prior announcement of Djokovic's Covid infection, and photos have since emerged of the player apparently attending events in the Serbian capital Belgrade maskless at around the time he tested positive. \n",
      "\n",
      "It is unclear whether he knew he had Covid when the photos were taken. \n",
      "\n",
      "An honor to receive my very own Serbian stamp. Thank you to my generous country for this rare gift! I’m humbled!! Excited to share we’ll partner with the Serbian National Postal Service on @novakfoundation projects for every child to have the opportunity to attend preschool 🙏🏼 pic.twitter.com/Ww8Zma95NU \n",
      "\n",
      "His lawyers have said he was kept at the immigration control point at Melbourne Airport for about eight hours after he arrived, and that he had little communication with them during that period. \n",
      "\n",
      "On Sunday, a court order by Judge Anthony Kelly stated that the request to delay the hearing until 12 January had been \"refused without prejudice\" and that submissions must be presented to the court at 10:00 local time on Monday (23:00 GMT Sunday).  \n",
      "\n",
      "Last week, Tennis Australia said it would need to know whether Djokovic was participating in the Australian Open so that it could schedule his games in the competition. \n",
      "\n",
      "While he awaits a final decision, Djokovic's lawyers have asked he be moved from the immigration detention hotel that has often been criticised by refugees for its poor conditions where he is currently being held, to \"a more suitable place of detention\" that would allow him to train ahead of the Australian Open. \n",
      "\n",
      "This video can not be played \n",
      "\n",
      "Australia's pandemic border rules ban foreigners from entering the country if they are not either double vaccinated or have a medical exemption from having the jabs. \n",
      "\n",
      "While foreigners can fly in to Australia on a visa applied for online, they must still clear immigration customs on arrival at the airport. \n",
      "\n",
      "The Australian Open begins on 17 January in Melbourne. \n",
      "\n",
      "Covid infection gave Djokovic exemption - lawyers \n",
      "\n",
      "Djokovic thanks fans amid row over vaccination \n",
      "\n",
      "Djokovic stay highlights concerns at refugee hotel \n",
      "\n",
      "South Africa parliament: Man arrested over massive fire \n",
      "\n",
      "This video can not be played \n",
      "\n",
      "A man has been arrested after a large fire severely damaged the Houses of Parliament in the South African city of Cape Town. \n",
      "\n",
      "The suspect, who is not a parliamentary employee, will appear in court on Tuesday, facing charges of arson, housebreaking and theft, police said. \n",
      "\n",
      "Firefighters worked for hours to extinguish the blaze.  \n",
      "\n",
      "President Cyril Ramaphosa called it a \"terrible and devastating event\", as he vowed parliament's work would continue. \n",
      "\n",
      "Footage from the scene on Sunday showed a plume of black smoke filling the sky, with huge flames coming out from the roof of the building.  \n",
      "\n",
      "Officials say the fire started on the third floor offices and quickly spread to the National Assembly (the parliament's lower house) chamber, reports the BBC's Nomsa Maseko in Cape Town.   \n",
      "\n",
      "The parliament is not currently in session because of the holidays, and no-one was injured. \n",
      "\n",
      "However the building is home to thousands of treasures including historic books, photographs and important works of art. There is particular concern that the valuable Keiskamma Tapestry, which is 120m (394ft) long and documents South Africa's history, may have been damaged or destroyed. \n",
      "\n",
      "Police say the suspect, who reportedly entered the building through a back window, is expected to be charged under the National Key Points Act, which protects sites of strategic importance.  \n",
      "\n",
      "It appears that private security used by the parliament in addition to police were not being paid overtime and were not on duty, Jean-Pierre Smith, a member of the Cape Town mayoral committee for safety and security, told the BBC World Service. \n",
      "\n",
      "Parliament said some offices had been \"severely gutted\", and confirmed \"significant damage\" to the New Assembly Wing of the building, which includes the National Assembly chamber where lawmakers sit.  \n",
      "\n",
      "The fire, which began shortly after 06:00 local time (04:00 GMT), came the day after Archbishop Desmond Tutu's state funeral at St George's Cathedral, near parliament. \n",
      "\n",
      "Mr Ramaphosa, who visited the scene, said news of the fire was a \"terrible setback to what we were basking in yesterday\". \n",
      "\n",
      "He said the building's sprinkler system had not functioned properly, and praised firefighters for responding to the fire in minutes.  \n",
      "\n",
      "Mr Smith told reporters the roof above the old assembly hall was \"completely gone\" and further damage inside the old chamber had not yet been evaluated. \n",
      "\n",
      "\"It is not possible to see whether it's damaged. We hope it is not because it has so many historical artefacts, but you can't gain access to it without breaking the doors down and we don't want to do that,\" he said. \n",
      "\n",
      "He also said that parliament's fire alarm had only sounded when firefighters were already on site. \n",
      "\n",
      "Fire and rescue service officials earlier said it would take hours to put the fire out completely because of the carpets and wooden floors in the building. \n",
      "\n",
      "The damage from the fire can be seen in this image made available by the city of Cape Town: \n",
      "\n",
      "The Houses of Parliament in Cape Town are made up of three sections, with the oldest dating back to 1884. The newer sections built in the 1920s and 1980s house the National Assembly. Meanwhile, the government is based in Pretoria. \n",
      "\n",
      "Mr Ramaphosa on Sunday spoke of his sadness at \"this destruction of the home of our democracy\".  \n",
      "\n",
      "Parliament said \"all efforts\" would be made to limit any disruption to its work. \n",
      "\n",
      "Cape Town's Mayor Geordin Hill-Lewis said the city's Council Chamber would be made available as an alternative place for parliament to meet.  \n",
      "\n",
      "It was the second fire at the parliament in under a year. In March there was a fire caused by an electrical fault. \n",
      "\n",
      "Last year, a fire ravaged part of the University of Cape Town's library, which was home to a unique collection of African archives. \n",
      "\n",
      "Are you in the area? If it's safe to do so, please share your experience via email - Haveyoursay@bbc.co.uk. \n",
      "\n",
      "Please include a contact number if you are willing to speak to a BBC journalist. You can also get in touch in the following ways: \n",
      "\n",
      "If you are reading this page and can't see the form you will need to visit the mobile version of the BBC website to submit your question or comment or you can email us at HaveYourSay@bbc.co.uk. Please include your name, age and location with any submission.  \n",
      "\n",
      "Residents evacuated as Cape Town fire spreads \n",
      "\n",
      "Table Mountain fire destroys historic buildings \n",
      "\n",
      "Why Cape Town is axing trees to save water \n",
      "\n"
     ]
    }
   ],
   "source": [
    "# load the data:\n",
    "import web_scapping_test as ws\n",
    "import numpy as np\n",
    "# getting all the strings out of the data and saving it to one list\n",
    "data = np.array(ws.contents_loaded,dtype=object)\n",
    "l = []\n",
    "for i in range(len(data)):\n",
    "    for j in range(len(data[i])):\n",
    "        if type(data[i][j]) == list:\n",
    "            for n in range(len(data[i][j])):\n",
    "#                 print('inside',type(data[i][j][n]))\n",
    "                l.append(classifier(data[i][j][n]))\n",
    "                print(data[i][j][n],'\\n')\n",
    "        else:\n",
    "#             print(type(data[i][j]))\n",
    "            l.append(classifier(data[i][j]))\n",
    "            print(data[i][j],'\\n')"
   ]
  },
  {
   "cell_type": "code",
   "execution_count": 95,
   "metadata": {},
   "outputs": [],
   "source": [
    "# now the same with pandas dataframes!\n",
    "import pandas as pd\n",
    "l1,l2 = [],[]\n",
    "for i in range(len(l)):\n",
    "#     print(l[i][0])\n",
    "    l1.append(l[i][0]['label'])\n",
    "    l2.append(l[i][0]['score'])"
   ]
  },
  {
   "cell_type": "code",
   "execution_count": 110,
   "metadata": {},
   "outputs": [
    {
     "data": {
      "text/html": [
       "<div>\n",
       "<style scoped>\n",
       "    .dataframe tbody tr th:only-of-type {\n",
       "        vertical-align: middle;\n",
       "    }\n",
       "\n",
       "    .dataframe tbody tr th {\n",
       "        vertical-align: top;\n",
       "    }\n",
       "\n",
       "    .dataframe thead th {\n",
       "        text-align: right;\n",
       "    }\n",
       "</style>\n",
       "<table border=\"1\" class=\"dataframe\">\n",
       "  <thead>\n",
       "    <tr style=\"text-align: right;\">\n",
       "      <th></th>\n",
       "      <th>label</th>\n",
       "      <th>score</th>\n",
       "    </tr>\n",
       "  </thead>\n",
       "  <tbody>\n",
       "    <tr>\n",
       "      <th>0</th>\n",
       "      <td>NEGATIVE</td>\n",
       "      <td>0.999461</td>\n",
       "    </tr>\n",
       "    <tr>\n",
       "      <th>1</th>\n",
       "      <td>NEGATIVE</td>\n",
       "      <td>0.998587</td>\n",
       "    </tr>\n",
       "    <tr>\n",
       "      <th>2</th>\n",
       "      <td>NEGATIVE</td>\n",
       "      <td>0.979486</td>\n",
       "    </tr>\n",
       "    <tr>\n",
       "      <th>3</th>\n",
       "      <td>NEGATIVE</td>\n",
       "      <td>0.998076</td>\n",
       "    </tr>\n",
       "    <tr>\n",
       "      <th>4</th>\n",
       "      <td>POSITIVE</td>\n",
       "      <td>0.998686</td>\n",
       "    </tr>\n",
       "    <tr>\n",
       "      <th>5</th>\n",
       "      <td>NEGATIVE</td>\n",
       "      <td>0.996535</td>\n",
       "    </tr>\n",
       "    <tr>\n",
       "      <th>6</th>\n",
       "      <td>NEGATIVE</td>\n",
       "      <td>0.986594</td>\n",
       "    </tr>\n",
       "    <tr>\n",
       "      <th>7</th>\n",
       "      <td>NEGATIVE</td>\n",
       "      <td>0.989640</td>\n",
       "    </tr>\n",
       "    <tr>\n",
       "      <th>8</th>\n",
       "      <td>NEGATIVE</td>\n",
       "      <td>0.993938</td>\n",
       "    </tr>\n",
       "    <tr>\n",
       "      <th>9</th>\n",
       "      <td>NEGATIVE</td>\n",
       "      <td>0.996137</td>\n",
       "    </tr>\n",
       "    <tr>\n",
       "      <th>10</th>\n",
       "      <td>NEGATIVE</td>\n",
       "      <td>0.995843</td>\n",
       "    </tr>\n",
       "    <tr>\n",
       "      <th>11</th>\n",
       "      <td>NEGATIVE</td>\n",
       "      <td>0.998692</td>\n",
       "    </tr>\n",
       "    <tr>\n",
       "      <th>12</th>\n",
       "      <td>POSITIVE</td>\n",
       "      <td>0.999777</td>\n",
       "    </tr>\n",
       "    <tr>\n",
       "      <th>13</th>\n",
       "      <td>NEGATIVE</td>\n",
       "      <td>0.999488</td>\n",
       "    </tr>\n",
       "    <tr>\n",
       "      <th>14</th>\n",
       "      <td>NEGATIVE</td>\n",
       "      <td>0.981953</td>\n",
       "    </tr>\n",
       "    <tr>\n",
       "      <th>15</th>\n",
       "      <td>NEGATIVE</td>\n",
       "      <td>0.998950</td>\n",
       "    </tr>\n",
       "    <tr>\n",
       "      <th>16</th>\n",
       "      <td>NEGATIVE</td>\n",
       "      <td>0.977440</td>\n",
       "    </tr>\n",
       "    <tr>\n",
       "      <th>17</th>\n",
       "      <td>NEGATIVE</td>\n",
       "      <td>0.999452</td>\n",
       "    </tr>\n",
       "    <tr>\n",
       "      <th>18</th>\n",
       "      <td>NEGATIVE</td>\n",
       "      <td>0.986158</td>\n",
       "    </tr>\n",
       "    <tr>\n",
       "      <th>19</th>\n",
       "      <td>NEGATIVE</td>\n",
       "      <td>0.746839</td>\n",
       "    </tr>\n",
       "    <tr>\n",
       "      <th>20</th>\n",
       "      <td>POSITIVE</td>\n",
       "      <td>0.997328</td>\n",
       "    </tr>\n",
       "    <tr>\n",
       "      <th>21</th>\n",
       "      <td>POSITIVE</td>\n",
       "      <td>0.983540</td>\n",
       "    </tr>\n",
       "    <tr>\n",
       "      <th>22</th>\n",
       "      <td>POSITIVE</td>\n",
       "      <td>0.996995</td>\n",
       "    </tr>\n",
       "    <tr>\n",
       "      <th>23</th>\n",
       "      <td>POSITIVE</td>\n",
       "      <td>0.982510</td>\n",
       "    </tr>\n",
       "    <tr>\n",
       "      <th>24</th>\n",
       "      <td>NEGATIVE</td>\n",
       "      <td>0.977280</td>\n",
       "    </tr>\n",
       "    <tr>\n",
       "      <th>25</th>\n",
       "      <td>NEGATIVE</td>\n",
       "      <td>0.999452</td>\n",
       "    </tr>\n",
       "    <tr>\n",
       "      <th>26</th>\n",
       "      <td>NEGATIVE</td>\n",
       "      <td>0.990373</td>\n",
       "    </tr>\n",
       "    <tr>\n",
       "      <th>27</th>\n",
       "      <td>NEGATIVE</td>\n",
       "      <td>0.943316</td>\n",
       "    </tr>\n",
       "    <tr>\n",
       "      <th>28</th>\n",
       "      <td>NEGATIVE</td>\n",
       "      <td>0.606101</td>\n",
       "    </tr>\n",
       "    <tr>\n",
       "      <th>29</th>\n",
       "      <td>NEGATIVE</td>\n",
       "      <td>0.998230</td>\n",
       "    </tr>\n",
       "    <tr>\n",
       "      <th>30</th>\n",
       "      <td>POSITIVE</td>\n",
       "      <td>0.968634</td>\n",
       "    </tr>\n",
       "    <tr>\n",
       "      <th>31</th>\n",
       "      <td>NEGATIVE</td>\n",
       "      <td>0.963976</td>\n",
       "    </tr>\n",
       "    <tr>\n",
       "      <th>32</th>\n",
       "      <td>POSITIVE</td>\n",
       "      <td>0.986373</td>\n",
       "    </tr>\n",
       "    <tr>\n",
       "      <th>33</th>\n",
       "      <td>POSITIVE</td>\n",
       "      <td>0.906014</td>\n",
       "    </tr>\n",
       "    <tr>\n",
       "      <th>34</th>\n",
       "      <td>NEGATIVE</td>\n",
       "      <td>0.987813</td>\n",
       "    </tr>\n",
       "    <tr>\n",
       "      <th>35</th>\n",
       "      <td>NEGATIVE</td>\n",
       "      <td>0.999099</td>\n",
       "    </tr>\n",
       "    <tr>\n",
       "      <th>36</th>\n",
       "      <td>NEGATIVE</td>\n",
       "      <td>0.999122</td>\n",
       "    </tr>\n",
       "    <tr>\n",
       "      <th>37</th>\n",
       "      <td>NEGATIVE</td>\n",
       "      <td>0.789717</td>\n",
       "    </tr>\n",
       "    <tr>\n",
       "      <th>38</th>\n",
       "      <td>NEGATIVE</td>\n",
       "      <td>0.996756</td>\n",
       "    </tr>\n",
       "    <tr>\n",
       "      <th>39</th>\n",
       "      <td>POSITIVE</td>\n",
       "      <td>0.845932</td>\n",
       "    </tr>\n",
       "    <tr>\n",
       "      <th>40</th>\n",
       "      <td>NEGATIVE</td>\n",
       "      <td>0.999782</td>\n",
       "    </tr>\n",
       "    <tr>\n",
       "      <th>41</th>\n",
       "      <td>NEGATIVE</td>\n",
       "      <td>0.988490</td>\n",
       "    </tr>\n",
       "    <tr>\n",
       "      <th>42</th>\n",
       "      <td>NEGATIVE</td>\n",
       "      <td>0.995168</td>\n",
       "    </tr>\n",
       "    <tr>\n",
       "      <th>43</th>\n",
       "      <td>NEGATIVE</td>\n",
       "      <td>0.999293</td>\n",
       "    </tr>\n",
       "    <tr>\n",
       "      <th>44</th>\n",
       "      <td>NEGATIVE</td>\n",
       "      <td>0.996936</td>\n",
       "    </tr>\n",
       "    <tr>\n",
       "      <th>45</th>\n",
       "      <td>POSITIVE</td>\n",
       "      <td>0.966190</td>\n",
       "    </tr>\n",
       "    <tr>\n",
       "      <th>46</th>\n",
       "      <td>NEGATIVE</td>\n",
       "      <td>0.965441</td>\n",
       "    </tr>\n",
       "    <tr>\n",
       "      <th>47</th>\n",
       "      <td>NEGATIVE</td>\n",
       "      <td>0.992762</td>\n",
       "    </tr>\n",
       "    <tr>\n",
       "      <th>48</th>\n",
       "      <td>POSITIVE</td>\n",
       "      <td>0.907284</td>\n",
       "    </tr>\n",
       "    <tr>\n",
       "      <th>49</th>\n",
       "      <td>NEGATIVE</td>\n",
       "      <td>0.995667</td>\n",
       "    </tr>\n",
       "    <tr>\n",
       "      <th>50</th>\n",
       "      <td>NEGATIVE</td>\n",
       "      <td>0.704783</td>\n",
       "    </tr>\n",
       "    <tr>\n",
       "      <th>51</th>\n",
       "      <td>NEGATIVE</td>\n",
       "      <td>0.853855</td>\n",
       "    </tr>\n",
       "    <tr>\n",
       "      <th>52</th>\n",
       "      <td>POSITIVE</td>\n",
       "      <td>0.999329</td>\n",
       "    </tr>\n",
       "    <tr>\n",
       "      <th>53</th>\n",
       "      <td>NEGATIVE</td>\n",
       "      <td>0.994176</td>\n",
       "    </tr>\n",
       "    <tr>\n",
       "      <th>54</th>\n",
       "      <td>NEGATIVE</td>\n",
       "      <td>0.934187</td>\n",
       "    </tr>\n",
       "    <tr>\n",
       "      <th>55</th>\n",
       "      <td>NEGATIVE</td>\n",
       "      <td>0.999453</td>\n",
       "    </tr>\n",
       "    <tr>\n",
       "      <th>56</th>\n",
       "      <td>NEGATIVE</td>\n",
       "      <td>0.994395</td>\n",
       "    </tr>\n",
       "  </tbody>\n",
       "</table>\n",
       "</div>"
      ],
      "text/plain": [
       "       label     score\n",
       "0   NEGATIVE  0.999461\n",
       "1   NEGATIVE  0.998587\n",
       "2   NEGATIVE  0.979486\n",
       "3   NEGATIVE  0.998076\n",
       "4   POSITIVE  0.998686\n",
       "5   NEGATIVE  0.996535\n",
       "6   NEGATIVE  0.986594\n",
       "7   NEGATIVE  0.989640\n",
       "8   NEGATIVE  0.993938\n",
       "9   NEGATIVE  0.996137\n",
       "10  NEGATIVE  0.995843\n",
       "11  NEGATIVE  0.998692\n",
       "12  POSITIVE  0.999777\n",
       "13  NEGATIVE  0.999488\n",
       "14  NEGATIVE  0.981953\n",
       "15  NEGATIVE  0.998950\n",
       "16  NEGATIVE  0.977440\n",
       "17  NEGATIVE  0.999452\n",
       "18  NEGATIVE  0.986158\n",
       "19  NEGATIVE  0.746839\n",
       "20  POSITIVE  0.997328\n",
       "21  POSITIVE  0.983540\n",
       "22  POSITIVE  0.996995\n",
       "23  POSITIVE  0.982510\n",
       "24  NEGATIVE  0.977280\n",
       "25  NEGATIVE  0.999452\n",
       "26  NEGATIVE  0.990373\n",
       "27  NEGATIVE  0.943316\n",
       "28  NEGATIVE  0.606101\n",
       "29  NEGATIVE  0.998230\n",
       "30  POSITIVE  0.968634\n",
       "31  NEGATIVE  0.963976\n",
       "32  POSITIVE  0.986373\n",
       "33  POSITIVE  0.906014\n",
       "34  NEGATIVE  0.987813\n",
       "35  NEGATIVE  0.999099\n",
       "36  NEGATIVE  0.999122\n",
       "37  NEGATIVE  0.789717\n",
       "38  NEGATIVE  0.996756\n",
       "39  POSITIVE  0.845932\n",
       "40  NEGATIVE  0.999782\n",
       "41  NEGATIVE  0.988490\n",
       "42  NEGATIVE  0.995168\n",
       "43  NEGATIVE  0.999293\n",
       "44  NEGATIVE  0.996936\n",
       "45  POSITIVE  0.966190\n",
       "46  NEGATIVE  0.965441\n",
       "47  NEGATIVE  0.992762\n",
       "48  POSITIVE  0.907284\n",
       "49  NEGATIVE  0.995667\n",
       "50  NEGATIVE  0.704783\n",
       "51  NEGATIVE  0.853855\n",
       "52  POSITIVE  0.999329\n",
       "53  NEGATIVE  0.994176\n",
       "54  NEGATIVE  0.934187\n",
       "55  NEGATIVE  0.999453\n",
       "56  NEGATIVE  0.994395"
      ]
     },
     "execution_count": 110,
     "metadata": {},
     "output_type": "execute_result"
    }
   ],
   "source": [
    "s"
   ]
  },
  {
   "cell_type": "code",
   "execution_count": 109,
   "metadata": {},
   "outputs": [
    {
     "data": {
      "text/plain": [
       "NEGATIVE    44\n",
       "POSITIVE    13\n",
       "Name: label, dtype: int64"
      ]
     },
     "execution_count": 109,
     "metadata": {},
     "output_type": "execute_result"
    }
   ],
   "source": [
    "s = pd.DataFrame({'label':l1,'score':l2})\n",
    "s['label'].value_counts()"
   ]
  },
  {
   "cell_type": "markdown",
   "metadata": {},
   "source": [
    "# FROM HERE IT'S JUST OLD STUFF I TRIED\n",
    "- how can I delete the stuff I had to download for that transformer?"
   ]
  },
  {
   "cell_type": "code",
   "execution_count": 9,
   "metadata": {},
   "outputs": [],
   "source": [
    "import torch"
   ]
  },
  {
   "cell_type": "code",
   "execution_count": 7,
   "metadata": {},
   "outputs": [
    {
     "data": {
      "application/vnd.jupyter.widget-view+json": {
       "model_id": "ab79d94ff07040beba18a5a6b79a9ff5",
       "version_major": 2,
       "version_minor": 0
      },
      "text/plain": [
       "Downloading:   0%|          | 0.00/295 [00:00<?, ?B/s]"
      ]
     },
     "metadata": {},
     "output_type": "display_data"
    },
    {
     "data": {
      "application/vnd.jupyter.widget-view+json": {
       "model_id": "fde01c09419549e39ba7d67484fb8338",
       "version_major": 2,
       "version_minor": 0
      },
      "text/plain": [
       "Downloading:   0%|          | 0.00/890 [00:00<?, ?B/s]"
      ]
     },
     "metadata": {},
     "output_type": "display_data"
    },
    {
     "data": {
      "application/vnd.jupyter.widget-view+json": {
       "model_id": "3b3c9ff5ded24545a172e8ce533f6269",
       "version_major": 2,
       "version_minor": 0
      },
      "text/plain": [
       "Downloading:   0%|          | 0.00/824k [00:00<?, ?B/s]"
      ]
     },
     "metadata": {},
     "output_type": "display_data"
    },
    {
     "data": {
      "application/vnd.jupyter.widget-view+json": {
       "model_id": "12cea4136f9040d2a1ae14f1cae18584",
       "version_major": 2,
       "version_minor": 0
      },
      "text/plain": [
       "Downloading:   0%|          | 0.00/1.03M [00:00<?, ?B/s]"
      ]
     },
     "metadata": {},
     "output_type": "display_data"
    },
    {
     "data": {
      "application/vnd.jupyter.widget-view+json": {
       "model_id": "faf3c101f6f3433ea6de940e5e5abb2f",
       "version_major": 2,
       "version_minor": 0
      },
      "text/plain": [
       "Downloading:   0%|          | 0.00/17.0 [00:00<?, ?B/s]"
      ]
     },
     "metadata": {},
     "output_type": "display_data"
    },
    {
     "data": {
      "application/vnd.jupyter.widget-view+json": {
       "model_id": "45c1155eba39484a9125a6e89ee630f2",
       "version_major": 2,
       "version_minor": 0
      },
      "text/plain": [
       "Downloading:   0%|          | 0.00/150 [00:00<?, ?B/s]"
      ]
     },
     "metadata": {},
     "output_type": "display_data"
    },
    {
     "data": {
      "application/vnd.jupyter.widget-view+json": {
       "model_id": "3e48835e2063431f9b155c7672c62e74",
       "version_major": 2,
       "version_minor": 0
      },
      "text/plain": [
       "Downloading:   0%|          | 0.00/515M [00:00<?, ?B/s]"
      ]
     },
     "metadata": {},
     "output_type": "display_data"
    }
   ],
   "source": [
    "from transformers import AutoTokenizer, AutoModelForSequenceClassification\n",
    "\n",
    "tokenizer = AutoTokenizer.from_pretrained(\"finiteautomata/bertweet-base-sentiment-analysis\")\n",
    "\n",
    "model = AutoModelForSequenceClassification.from_pretrained(\"finiteautomata/bertweet-base-sentiment-analysis\")"
   ]
  },
  {
   "cell_type": "markdown",
   "metadata": {},
   "source": [
    "# another try:"
   ]
  },
  {
   "cell_type": "code",
   "execution_count": 10,
   "metadata": {},
   "outputs": [
    {
     "name": "stderr",
     "output_type": "stream",
     "text": [
      "No model was supplied, defaulted to distilbert-base-uncased-finetuned-sst-2-english (https://huggingface.co/distilbert-base-uncased-finetuned-sst-2-english)\n"
     ]
    },
    {
     "data": {
      "application/vnd.jupyter.widget-view+json": {
       "model_id": "6bcb63fb24794821afeb5aea781f1a85",
       "version_major": 2,
       "version_minor": 0
      },
      "text/plain": [
       "Downloading:   0%|          | 0.00/629 [00:00<?, ?B/s]"
      ]
     },
     "metadata": {},
     "output_type": "display_data"
    },
    {
     "data": {
      "application/vnd.jupyter.widget-view+json": {
       "model_id": "76514f65139544b995436c9f92dc13ce",
       "version_major": 2,
       "version_minor": 0
      },
      "text/plain": [
       "Downloading:   0%|          | 0.00/255M [00:00<?, ?B/s]"
      ]
     },
     "metadata": {},
     "output_type": "display_data"
    },
    {
     "data": {
      "application/vnd.jupyter.widget-view+json": {
       "model_id": "6480efef233d4a7ea743a6277798750a",
       "version_major": 2,
       "version_minor": 0
      },
      "text/plain": [
       "Downloading:   0%|          | 0.00/48.0 [00:00<?, ?B/s]"
      ]
     },
     "metadata": {},
     "output_type": "display_data"
    },
    {
     "data": {
      "application/vnd.jupyter.widget-view+json": {
       "model_id": "ada91f3f3d30402bbc611b2d91f686e8",
       "version_major": 2,
       "version_minor": 0
      },
      "text/plain": [
       "Downloading:   0%|          | 0.00/226k [00:00<?, ?B/s]"
      ]
     },
     "metadata": {},
     "output_type": "display_data"
    },
    {
     "name": "stderr",
     "output_type": "stream",
     "text": [
      "TAPAS models are not usable since `torch_scatter` can't be loaded. It seems you have `torch_scatter` installed with the wrong CUDA version. Please try to reinstall it following the instructions here: https://github.com/rusty1s/pytorch_scatter.\n"
     ]
    },
    {
     "data": {
      "text/plain": [
       "[{'label': 'POSITIVE', 'score': 0.9996980428695679}]"
      ]
     },
     "execution_count": 10,
     "metadata": {},
     "output_type": "execute_result"
    }
   ],
   "source": [
    "from transformers import pipeline\n",
    "\n",
    "# Allocate a pipeline for sentiment-analysis\n",
    "classifier = pipeline('sentiment-analysis')\n",
    "classifier('We are very happy to introduce pipeline to the transformers repository.')"
   ]
  },
  {
   "cell_type": "markdown",
   "metadata": {},
   "source": [
    "# first try of using their code dirrectly from [their github](https://github.com/pysentimiento/pysentimiento). \n",
    "\n",
    "Didn't work."
   ]
  },
  {
   "cell_type": "code",
   "execution_count": 8,
   "metadata": {},
   "outputs": [
    {
     "data": {
      "text/plain": [
       "['/home/joho/venv/lib/python36.zip',\n",
       " '/home/joho/venv/lib/python3.6',\n",
       " '/home/joho/venv/lib/python3.6/lib-dynload',\n",
       " '/usr/lib/python3.6',\n",
       " '',\n",
       " '/home/joho/venv/lib/python3.6/site-packages',\n",
       " '/usr/local/lib/python3.6/dist-packages',\n",
       " '/usr/lib/python3/dist-packages',\n",
       " '/home/joho/venv/lib/python3.6/site-packages/IPython/extensions',\n",
       " '/home/joho/.ipython']"
      ]
     },
     "execution_count": 8,
     "metadata": {},
     "output_type": "execute_result"
    }
   ],
   "source": [
    "import sys\n",
    "sys.path"
   ]
  },
  {
   "cell_type": "code",
   "execution_count": 6,
   "metadata": {},
   "outputs": [
    {
     "ename": "ImportError",
     "evalue": "cannot import name 'create_analyzer'",
     "output_type": "error",
     "traceback": [
      "\u001b[0;31m---------------------------------------------------------------------------\u001b[0m",
      "\u001b[0;31mImportError\u001b[0m                               Traceback (most recent call last)",
      "\u001b[0;32m<ipython-input-6-e32bb45a6c33>\u001b[0m in \u001b[0;36m<module>\u001b[0;34m\u001b[0m\n\u001b[0;32m----> 1\u001b[0;31m \u001b[0;32mfrom\u001b[0m \u001b[0mpysentimiento\u001b[0m \u001b[0;32mimport\u001b[0m \u001b[0mcreate_analyzer\u001b[0m\u001b[0;34m\u001b[0m\u001b[0;34m\u001b[0m\u001b[0m\n\u001b[0m\u001b[1;32m      2\u001b[0m \u001b[0;31m# analyzer = create_analyzer(task=\"sentiment\", lang=\"es\")\u001b[0m\u001b[0;34m\u001b[0m\u001b[0;34m\u001b[0m\u001b[0;34m\u001b[0m\u001b[0m\n\u001b[1;32m      3\u001b[0m \u001b[0;34m\u001b[0m\u001b[0m\n\u001b[1;32m      4\u001b[0m \u001b[0;31m# analyzer.predict(\"Qué gran jugador es Messi\")\u001b[0m\u001b[0;34m\u001b[0m\u001b[0;34m\u001b[0m\u001b[0;34m\u001b[0m\u001b[0m\n",
      "\u001b[0;31mImportError\u001b[0m: cannot import name 'create_analyzer'"
     ]
    }
   ],
   "source": [
    "# from pysentimiento import create_analyzer\n",
    "# analyzer = create_analyzer(task=\"sentiment\", lang=\"es\")\n",
    "\n",
    "# analyzer.predict(\"Qué gran jugador es Messi\")\n",
    "\n",
    "# This one is not even executing..."
   ]
  }
 ],
 "metadata": {
  "kernelspec": {
   "display_name": "Python 3",
   "language": "python",
   "name": "python3"
  },
  "language_info": {
   "codemirror_mode": {
    "name": "ipython",
    "version": 3
   },
   "file_extension": ".py",
   "mimetype": "text/x-python",
   "name": "python",
   "nbconvert_exporter": "python",
   "pygments_lexer": "ipython3",
   "version": "3.6.7"
  }
 },
 "nbformat": 4,
 "nbformat_minor": 4
}
